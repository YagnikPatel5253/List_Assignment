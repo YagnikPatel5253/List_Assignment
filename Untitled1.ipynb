{
 "cells": [
  {
   "cell_type": "code",
   "execution_count": null,
   "id": "9a7dc6df-d945-4f5e-adc0-c0ed599f01cd",
   "metadata": {},
   "outputs": [],
   "source": [
    "#Question 1\n",
    "list = []"
   ]
  },
  {
   "cell_type": "code",
   "execution_count": 9,
   "id": "bbcf21c1-25ab-4e67-92a4-2546f65a0175",
   "metadata": {},
   "outputs": [
    {
     "name": "stdout",
     "output_type": "stream",
     "text": [
      "[1, 2, 3]\n"
     ]
    }
   ],
   "source": [
    "#Question 2\n",
    "list1 = [1,2,3]\n",
    "print(list1)"
   ]
  },
  {
   "cell_type": "code",
   "execution_count": 10,
   "id": "287f283c-92fe-4d2d-9912-640650d15e21",
   "metadata": {},
   "outputs": [
    {
     "data": {
      "text/plain": [
       "3"
      ]
     },
     "execution_count": 10,
     "metadata": {},
     "output_type": "execute_result"
    }
   ],
   "source": [
    "#Question 3\n",
    "list1[2]"
   ]
  },
  {
   "cell_type": "code",
   "execution_count": 11,
   "id": "e2913c2b-df44-4357-b0e0-44ad04eed745",
   "metadata": {},
   "outputs": [
    {
     "data": {
      "text/plain": [
       "[3, 2, 1]"
      ]
     },
     "execution_count": 11,
     "metadata": {},
     "output_type": "execute_result"
    }
   ],
   "source": [
    "#Question 4\n",
    "list1[::-1]"
   ]
  },
  {
   "cell_type": "code",
   "execution_count": 13,
   "id": "80928b5a-cc21-40bd-ac86-e39306f9a991",
   "metadata": {},
   "outputs": [
    {
     "name": "stdout",
     "output_type": "stream",
     "text": [
      "[1, 2, 3]\n"
     ]
    }
   ],
   "source": [
    "#Question 5\n",
    "list1.sort()\n",
    "print(list1)"
   ]
  },
  {
   "cell_type": "code",
   "execution_count": 14,
   "id": "c5c86c55-52f0-446b-aaa5-ead89eaca4fb",
   "metadata": {},
   "outputs": [
    {
     "data": {
      "text/plain": [
       "'THERE IDIOTS'"
      ]
     },
     "execution_count": 14,
     "metadata": {},
     "output_type": "execute_result"
    }
   ],
   "source": [
    "#Question 6\n",
    "movies = ['RRR','THERE IDIOTS','BAHUBALI']\n",
    "movies[1]"
   ]
  },
  {
   "cell_type": "code",
   "execution_count": 16,
   "id": "1d018010-a551-41f8-b659-1ae15b0ead9c",
   "metadata": {},
   "outputs": [
    {
     "name": "stdout",
     "output_type": "stream",
     "text": [
      "['Dog', 'Cat', 'Lion', 'Tiger']\n"
     ]
    }
   ],
   "source": [
    "#Question 7\n",
    "animal = ['Dog','Cat','Lion']\n",
    "animal.append('Tiger')\n",
    "print(animal)"
   ]
  },
  {
   "cell_type": "code",
   "execution_count": 17,
   "id": "e6f87fa0-727f-4cb0-aef2-b639dd11f79e",
   "metadata": {},
   "outputs": [
    {
     "name": "stdout",
     "output_type": "stream",
     "text": [
      "0\n"
     ]
    }
   ],
   "source": [
    "#Question 8\n",
    "favorite_cities = ['Vadodara','Surat','Bhavnagar','Rajkot']\n",
    "city_to_find = 'Vadodara'\n",
    "\n",
    "city_index = favorite_cities.index(city_to_find)\n",
    "print(city_index)\n"
   ]
  },
  {
   "cell_type": "code",
   "execution_count": null,
   "id": "bd07fda3-fcc7-4fef-80cb-61e0c97fc251",
   "metadata": {},
   "outputs": [],
   "source": []
  }
 ],
 "metadata": {
  "kernelspec": {
   "display_name": "Python 3 (ipykernel)",
   "language": "python",
   "name": "python3"
  },
  "language_info": {
   "codemirror_mode": {
    "name": "ipython",
    "version": 3
   },
   "file_extension": ".py",
   "mimetype": "text/x-python",
   "name": "python",
   "nbconvert_exporter": "python",
   "pygments_lexer": "ipython3",
   "version": "3.10.8"
  }
 },
 "nbformat": 4,
 "nbformat_minor": 5
}
